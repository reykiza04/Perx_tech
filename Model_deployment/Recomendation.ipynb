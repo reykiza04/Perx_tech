{
 "cells": [
  {
   "cell_type": "markdown",
   "metadata": {},
   "source": [
    "# Perx Technologies Test for Data Scientist Candidate\n",
    "\n",
    "## Name of Candidate : Reyki Seprianza\n",
    "\n",
    "## Subject: Recomendation Engine for Movies\n",
    ">*Details\n",
    "\n",
    "### Use Case\n",
    "- Client X would like to understand its customers behaviour to recommend relevant rewards for future campaigns.\n",
    "### Specification\n",
    "- Create a working machine learning (unsupervised model) solution that recommend rewards when input a user_id.\n",
    "- You are free to use any Python framework including tensorflow, Keras, scikit-learn and pytorch.\n",
    "### Data Provided\n",
    "- Please use the public [movielens 1M dataset](https://grouplens.org/datasets/movielens/1m)\n",
    "### Deliverable\n",
    "- A command line application that can be invoked with user_id as parameter and output recommended movie ids. Or a simple REST service that is packaged as docker image that expose a simple rest API that returns recommended movie ids for a user specified.\n",
    "\n",
    "- Bonus point: recommended to have a orchestration application, either localhost or docker, to help update the data as well as retrain the model and finally update to the latest model in order to support the recommendation machenism within, which links to the core application itself. Draft CI/CD architecture for this application then.\n"
   ]
  },
  {
   "cell_type": "markdown",
   "metadata": {},
   "source": [
    "## Data Exploration:"
   ]
  },
  {
   "cell_type": "code",
   "execution_count": 110,
   "metadata": {},
   "outputs": [],
   "source": [
    "import matplotlib.pyplot as plt\n",
    "import seaborn as sns\n",
    "import pandas as pd\n",
    "\n",
    "from sklearn.model_selection import train_test_split\n",
    "# from tensorflow.keras.layers import Input, Embedding, Dot, Flatten\n",
    "# from tensorflow.keras.models import Model\n",
    "from keras.layers import Input, Embedding, Flatten, Concatenate, Dense\n",
    "from keras.models import Model\n"
   ]
  },
  {
   "cell_type": "code",
   "execution_count": 111,
   "metadata": {},
   "outputs": [
    {
     "name": "stdout",
     "output_type": "stream",
     "text": [
      "Ratings DataFrame:\n",
      "   UserID  MovieID  Rating  Timestamp\n",
      "0       1     1193       5  978300760\n",
      "1       1      661       3  978302109\n",
      "2       1      914       3  978301968\n",
      "3       1     3408       4  978300275\n",
      "4       1     2355       5  978824291\n",
      "\n",
      "Users DataFrame:\n",
      "   UserID Gender  Age  Occupation Zip-code\n",
      "0       1      F    1          10    48067\n",
      "1       2      M   56          16    70072\n",
      "2       3      M   25          15    55117\n",
      "3       4      M   45           7    02460\n",
      "4       5      M   25          20    55455\n",
      "\n",
      "Movies DataFrame:\n",
      "   MovieID                               Title                        Genres\n",
      "0        1                    Toy Story (1995)   Animation|Children's|Comedy\n",
      "1        2                      Jumanji (1995)  Adventure|Children's|Fantasy\n",
      "2        3             Grumpier Old Men (1995)                Comedy|Romance\n",
      "3        4            Waiting to Exhale (1995)                  Comedy|Drama\n",
      "4        5  Father of the Bride Part II (1995)                        Comedy\n"
     ]
    }
   ],
   "source": [
    "# Define file paths\n",
    "ratings_file = \"ratings.dat\"\n",
    "users_file = \"users.dat\"\n",
    "movies_file = \"movies.dat\"\n",
    "\n",
    "# Define column names for each dataset\n",
    "ratings_cols = [\"UserID\", \"MovieID\", \"Rating\", \"Timestamp\"]\n",
    "users_cols = [\"UserID\", \"Gender\", \"Age\", \"Occupation\", \"Zip-code\"]\n",
    "movies_cols = [\"MovieID\", \"Title\", \"Genres\"]\n",
    "# Load datasets into DataFrames with latin1 encoding\n",
    "ratings_df = pd.read_csv(ratings_file, sep=\"::\", header=None, names=ratings_cols, engine=\"python\", encoding=\"latin1\")\n",
    "users_df = pd.read_csv(users_file, sep=\"::\", header=None, names=users_cols, engine=\"python\", encoding=\"latin1\")\n",
    "movies_df = pd.read_csv(movies_file, sep=\"::\", header=None, names=movies_cols, engine=\"python\", encoding=\"latin1\")\n",
    "# Display the first few rows of each DataFrame to verify import\n",
    "print(\"Ratings DataFrame:\")\n",
    "print(ratings_df.head())\n",
    "print(\"\\nUsers DataFrame:\")\n",
    "print(users_df.head())\n",
    "print(\"\\nMovies DataFrame:\")\n",
    "print(movies_df.head())\n"
   ]
  },
  {
   "cell_type": "code",
   "execution_count": 112,
   "metadata": {},
   "outputs": [
    {
     "name": "stdout",
     "output_type": "stream",
     "text": [
      "Dimensions of Ratings DataFrame: (1000209, 4)\n",
      "Dimensions of Users DataFrame: (6040, 5)\n",
      "Dimensions of Movies DataFrame: (3883, 3)\n"
     ]
    }
   ],
   "source": [
    "# Display dimensions of each DataFrame\n",
    "print(\"Dimensions of Ratings DataFrame:\", ratings_df.shape)\n",
    "print(\"Dimensions of Users DataFrame:\", users_df.shape)\n",
    "print(\"Dimensions of Movies DataFrame:\", movies_df.shape)\n"
   ]
  },
  {
   "cell_type": "code",
   "execution_count": 113,
   "metadata": {},
   "outputs": [
    {
     "name": "stdout",
     "output_type": "stream",
     "text": [
      "\n",
      "First few rows of Ratings DataFrame:\n",
      "   UserID  MovieID  Rating  Timestamp\n",
      "0       1     1193       5  978300760\n",
      "1       1      661       3  978302109\n",
      "2       1      914       3  978301968\n",
      "3       1     3408       4  978300275\n",
      "4       1     2355       5  978824291\n",
      "\n",
      "First few rows of Users DataFrame:\n",
      "   UserID Gender  Age  Occupation Zip-code\n",
      "0       1      F    1          10    48067\n",
      "1       2      M   56          16    70072\n",
      "2       3      M   25          15    55117\n",
      "3       4      M   45           7    02460\n",
      "4       5      M   25          20    55455\n",
      "\n",
      "First few rows of Movies DataFrame:\n",
      "   MovieID                               Title                        Genres\n",
      "0        1                    Toy Story (1995)   Animation|Children's|Comedy\n",
      "1        2                      Jumanji (1995)  Adventure|Children's|Fantasy\n",
      "2        3             Grumpier Old Men (1995)                Comedy|Romance\n",
      "3        4            Waiting to Exhale (1995)                  Comedy|Drama\n",
      "4        5  Father of the Bride Part II (1995)                        Comedy\n"
     ]
    }
   ],
   "source": [
    "\n",
    "# Display first few rows of each DataFrame\n",
    "print(\"\\nFirst few rows of Ratings DataFrame:\")\n",
    "print(ratings_df.head())\n",
    "print(\"\\nFirst few rows of Users DataFrame:\")\n",
    "print(users_df.head())\n",
    "print(\"\\nFirst few rows of Movies DataFrame:\")\n",
    "print(movies_df.head())\n"
   ]
  },
  {
   "cell_type": "code",
   "execution_count": 114,
   "metadata": {},
   "outputs": [
    {
     "name": "stdout",
     "output_type": "stream",
     "text": [
      "\n",
      "Missing values in Ratings DataFrame:\n",
      "UserID       0\n",
      "MovieID      0\n",
      "Rating       0\n",
      "Timestamp    0\n",
      "dtype: int64\n",
      "\n",
      "Missing values in Users DataFrame:\n",
      "UserID        0\n",
      "Gender        0\n",
      "Age           0\n",
      "Occupation    0\n",
      "Zip-code      0\n",
      "dtype: int64\n",
      "\n",
      "Missing values in Movies DataFrame:\n",
      "MovieID    0\n",
      "Title      0\n",
      "Genres     0\n",
      "dtype: int64\n"
     ]
    }
   ],
   "source": [
    "\n",
    "# Check for missing values\n",
    "print(\"\\nMissing values in Ratings DataFrame:\")\n",
    "print(ratings_df.isnull().sum())\n",
    "print(\"\\nMissing values in Users DataFrame:\")\n",
    "print(users_df.isnull().sum())\n",
    "print(\"\\nMissing values in Movies DataFrame:\")\n",
    "print(movies_df.isnull().sum())\n"
   ]
  },
  {
   "cell_type": "code",
   "execution_count": 115,
   "metadata": {},
   "outputs": [
    {
     "name": "stdout",
     "output_type": "stream",
     "text": [
      "\n",
      "Summary statistics for Ratings DataFrame:\n",
      "             UserID       MovieID        Rating     Timestamp\n",
      "count  1.000209e+06  1.000209e+06  1.000209e+06  1.000209e+06\n",
      "mean   3.024512e+03  1.865540e+03  3.581564e+00  9.722437e+08\n",
      "std    1.728413e+03  1.096041e+03  1.117102e+00  1.215256e+07\n",
      "min    1.000000e+00  1.000000e+00  1.000000e+00  9.567039e+08\n",
      "25%    1.506000e+03  1.030000e+03  3.000000e+00  9.653026e+08\n",
      "50%    3.070000e+03  1.835000e+03  4.000000e+00  9.730180e+08\n",
      "75%    4.476000e+03  2.770000e+03  4.000000e+00  9.752209e+08\n",
      "max    6.040000e+03  3.952000e+03  5.000000e+00  1.046455e+09\n",
      "\n",
      "Summary statistics for Users DataFrame:\n",
      "            UserID          Age   Occupation\n",
      "count  6040.000000  6040.000000  6040.000000\n",
      "mean   3020.500000    30.639238     8.146854\n",
      "std    1743.742145    12.895962     6.329511\n",
      "min       1.000000     1.000000     0.000000\n",
      "25%    1510.750000    25.000000     3.000000\n",
      "50%    3020.500000    25.000000     7.000000\n",
      "75%    4530.250000    35.000000    14.000000\n",
      "max    6040.000000    56.000000    20.000000\n"
     ]
    }
   ],
   "source": [
    "\n",
    "# Summary statistics for numerical columns\n",
    "print(\"\\nSummary statistics for Ratings DataFrame:\")\n",
    "print(ratings_df.describe())\n",
    "print(\"\\nSummary statistics for Users DataFrame:\")\n",
    "print(users_df.describe())\n"
   ]
  },
  {
   "cell_type": "code",
   "execution_count": 116,
   "metadata": {},
   "outputs": [
    {
     "name": "stdout",
     "output_type": "stream",
     "text": [
      "\n",
      "Unique values of Gender in Users DataFrame:\n",
      "['F' 'M']\n",
      "\n",
      "Value counts of Age in Users DataFrame:\n",
      "25    2096\n",
      "35    1193\n",
      "18    1103\n",
      "45     550\n",
      "50     496\n",
      "56     380\n",
      "1      222\n",
      "Name: Age, dtype: int64\n",
      "\n",
      "Value counts of Occupation in Users DataFrame:\n",
      "4     759\n",
      "0     711\n",
      "7     679\n",
      "1     528\n",
      "17    502\n",
      "12    388\n",
      "14    302\n",
      "20    281\n",
      "2     267\n",
      "16    241\n",
      "6     236\n",
      "10    195\n",
      "3     173\n",
      "15    144\n",
      "13    142\n",
      "11    129\n",
      "5     112\n",
      "9      92\n",
      "19     72\n",
      "18     70\n",
      "8      17\n",
      "Name: Occupation, dtype: int64\n"
     ]
    }
   ],
   "source": [
    "\n",
    "# Unique values and value counts for categorical columns\n",
    "print(\"\\nUnique values of Gender in Users DataFrame:\")\n",
    "print(users_df['Gender'].unique())\n",
    "print(\"\\nValue counts of Age in Users DataFrame:\")\n",
    "print(users_df['Age'].value_counts())\n",
    "print(\"\\nValue counts of Occupation in Users DataFrame:\")\n",
    "print(users_df['Occupation'].value_counts())"
   ]
  },
  {
   "cell_type": "code",
   "execution_count": 117,
   "metadata": {},
   "outputs": [
    {
     "data": {
      "image/png": "[encoded data removed]",
      "text/plain": [
       "<Figure size 800x600 with 1 Axes>"
      ]
     },
     "metadata": {},
     "output_type": "display_data"
    },
    {
     "data": {
      "image/png": "[encoded data removed]",
      "text/plain": [
       "<Figure size 1000x600 with 1 Axes>"
      ]
     },
     "metadata": {},
     "output_type": "display_data"
    },
    {
     "data": {
      "image/png": "[encoded data removed]",
      "text/plain": [
       "<Figure size 1200x600 with 1 Axes>"
      ]
     },
     "metadata": {},
     "output_type": "display_data"
    }
   ],
   "source": [
    "\n",
    "# Visualization\n",
    "# Distribution of Ratings\n",
    "plt.figure(figsize=(8, 6))\n",
    "sns.countplot(data=ratings_df, x='Rating')\n",
    "plt.title('Distribution of Ratings')\n",
    "plt.xlabel('Rating')\n",
    "plt.ylabel('Count')\n",
    "plt.show()\n",
    "\n",
    "# Distribution of Ages\n",
    "plt.figure(figsize=(10, 6))\n",
    "sns.histplot(data=users_df, x='Age', bins=range(0, 70, 5), kde=True)\n",
    "plt.title('Distribution of Ages')\n",
    "plt.xlabel('Age')\n",
    "plt.ylabel('Count')\n",
    "plt.show()\n",
    "\n",
    "# Distribution of Occupations\n",
    "plt.figure(figsize=(12, 6))\n",
    "sns.countplot(data=users_df, x='Occupation', palette='viridis')\n",
    "plt.title('Distribution of Occupations')\n",
    "plt.xlabel('Occupation')\n",
    "plt.ylabel('Count')\n",
    "plt.xticks(rotation=45)\n",
    "plt.show()"
   ]
  },
  {
   "cell_type": "markdown",
   "metadata": {},
   "source": [
    "## Data Preprocessing:\n",
    "- merge dataset\n",
    "- feature engineering for genre column\n",
    "- One Hot Encoding for gender and genre"
   ]
  },
  {
   "cell_type": "code",
   "execution_count": 118,
   "metadata": {},
   "outputs": [],
   "source": [
    "\n",
    "# Merge datasets\n",
    "merged_df = pd.merge(ratings_df, users_df, on=\"UserID\")\n",
    "merged_df = pd.merge(merged_df, movies_df, on=\"MovieID\")\n",
    "\n"
   ]
  },
  {
   "cell_type": "code",
   "execution_count": 119,
   "metadata": {},
   "outputs": [
    {
     "data": {
      "text/plain": [
       "Index(['UserID', 'MovieID', 'Rating', 'Timestamp', 'Gender', 'Age',\n",
       "       'Occupation', 'Zip-code', 'Title', 'Genres'],\n",
       "      dtype='object')"
      ]
     },
     "execution_count": 119,
     "metadata": {},
     "output_type": "execute_result"
    }
   ],
   "source": [
    "merged_df.columns"
   ]
  },
  {
   "cell_type": "code",
   "execution_count": 120,
   "metadata": {},
   "outputs": [],
   "source": [
    "# Encode categorical variables\n",
    "# Perform one-hot encoding for gender\n",
    "encoded_gender = pd.get_dummies(merged_df['Gender'], prefix='Gender')\n",
    "\n",
    "# Concatenate the encoded gender columns with the original DataFrame\n",
    "merged_df_encoded = pd.concat([merged_df, encoded_gender], axis=1)\n",
    "\n",
    "# Drop the original gender column\n",
    "merged_df_encoded.drop('Gender', axis=1, inplace=True)"
   ]
  },
  {
   "cell_type": "code",
   "execution_count": 121,
   "metadata": {},
   "outputs": [
    {
     "data": {
      "text/html": [
       "<div>\n",
       "<style scoped>\n",
       "    .dataframe tbody tr th:only-of-type {\n",
       "        vertical-align: middle;\n",
       "    }\n",
       "\n",
       "    .dataframe tbody tr th {\n",
       "        vertical-align: top;\n",
       "    }\n",
       "\n",
       "    .dataframe thead th {\n",
       "        text-align: right;\n",
       "    }\n",
       "</style>\n",
       "<table border=\"1\" class=\"dataframe\">\n",
       "  <thead>\n",
       "    <tr style=\"text-align: right;\">\n",
       "      <th></th>\n",
       "      <th>UserID</th>\n",
       "      <th>MovieID</th>\n",
       "      <th>Rating</th>\n",
       "      <th>Timestamp</th>\n",
       "      <th>Age</th>\n",
       "      <th>Occupation</th>\n",
       "      <th>Zip-code</th>\n",
       "      <th>Title</th>\n",
       "      <th>Genres</th>\n",
       "      <th>Gender_F</th>\n",
       "      <th>Gender_M</th>\n",
       "    </tr>\n",
       "  </thead>\n",
       "  <tbody>\n",
       "    <tr>\n",
       "      <th>0</th>\n",
       "      <td>1</td>\n",
       "      <td>1193</td>\n",
       "      <td>5</td>\n",
       "      <td>978300760</td>\n",
       "      <td>1</td>\n",
       "      <td>10</td>\n",
       "      <td>48067</td>\n",
       "      <td>One Flew Over the Cuckoo's Nest (1975)</td>\n",
       "      <td>Drama</td>\n",
       "      <td>1</td>\n",
       "      <td>0</td>\n",
       "    </tr>\n",
       "    <tr>\n",
       "      <th>1</th>\n",
       "      <td>2</td>\n",
       "      <td>1193</td>\n",
       "      <td>5</td>\n",
       "      <td>978298413</td>\n",
       "      <td>56</td>\n",
       "      <td>16</td>\n",
       "      <td>70072</td>\n",
       "      <td>One Flew Over the Cuckoo's Nest (1975)</td>\n",
       "      <td>Drama</td>\n",
       "      <td>0</td>\n",
       "      <td>1</td>\n",
       "    </tr>\n",
       "    <tr>\n",
       "      <th>2</th>\n",
       "      <td>12</td>\n",
       "      <td>1193</td>\n",
       "      <td>4</td>\n",
       "      <td>978220179</td>\n",
       "      <td>25</td>\n",
       "      <td>12</td>\n",
       "      <td>32793</td>\n",
       "      <td>One Flew Over the Cuckoo's Nest (1975)</td>\n",
       "      <td>Drama</td>\n",
       "      <td>0</td>\n",
       "      <td>1</td>\n",
       "    </tr>\n",
       "    <tr>\n",
       "      <th>3</th>\n",
       "      <td>15</td>\n",
       "      <td>1193</td>\n",
       "      <td>4</td>\n",
       "      <td>978199279</td>\n",
       "      <td>25</td>\n",
       "      <td>7</td>\n",
       "      <td>22903</td>\n",
       "      <td>One Flew Over the Cuckoo's Nest (1975)</td>\n",
       "      <td>Drama</td>\n",
       "      <td>0</td>\n",
       "      <td>1</td>\n",
       "    </tr>\n",
       "    <tr>\n",
       "      <th>4</th>\n",
       "      <td>17</td>\n",
       "      <td>1193</td>\n",
       "      <td>5</td>\n",
       "      <td>978158471</td>\n",
       "      <td>50</td>\n",
       "      <td>1</td>\n",
       "      <td>95350</td>\n",
       "      <td>One Flew Over the Cuckoo's Nest (1975)</td>\n",
       "      <td>Drama</td>\n",
       "      <td>0</td>\n",
       "      <td>1</td>\n",
       "    </tr>\n",
       "    <tr>\n",
       "      <th>...</th>\n",
       "      <td>...</td>\n",
       "      <td>...</td>\n",
       "      <td>...</td>\n",
       "      <td>...</td>\n",
       "      <td>...</td>\n",
       "      <td>...</td>\n",
       "      <td>...</td>\n",
       "      <td>...</td>\n",
       "      <td>...</td>\n",
       "      <td>...</td>\n",
       "      <td>...</td>\n",
       "    </tr>\n",
       "    <tr>\n",
       "      <th>1000204</th>\n",
       "      <td>5949</td>\n",
       "      <td>2198</td>\n",
       "      <td>5</td>\n",
       "      <td>958846401</td>\n",
       "      <td>18</td>\n",
       "      <td>17</td>\n",
       "      <td>47901</td>\n",
       "      <td>Modulations (1998)</td>\n",
       "      <td>Documentary</td>\n",
       "      <td>0</td>\n",
       "      <td>1</td>\n",
       "    </tr>\n",
       "    <tr>\n",
       "      <th>1000205</th>\n",
       "      <td>5675</td>\n",
       "      <td>2703</td>\n",
       "      <td>3</td>\n",
       "      <td>976029116</td>\n",
       "      <td>35</td>\n",
       "      <td>14</td>\n",
       "      <td>30030</td>\n",
       "      <td>Broken Vessels (1998)</td>\n",
       "      <td>Drama</td>\n",
       "      <td>0</td>\n",
       "      <td>1</td>\n",
       "    </tr>\n",
       "    <tr>\n",
       "      <th>1000206</th>\n",
       "      <td>5780</td>\n",
       "      <td>2845</td>\n",
       "      <td>1</td>\n",
       "      <td>958153068</td>\n",
       "      <td>18</td>\n",
       "      <td>17</td>\n",
       "      <td>92886</td>\n",
       "      <td>White Boys (1999)</td>\n",
       "      <td>Drama</td>\n",
       "      <td>0</td>\n",
       "      <td>1</td>\n",
       "    </tr>\n",
       "    <tr>\n",
       "      <th>1000207</th>\n",
       "      <td>5851</td>\n",
       "      <td>3607</td>\n",
       "      <td>5</td>\n",
       "      <td>957756608</td>\n",
       "      <td>18</td>\n",
       "      <td>20</td>\n",
       "      <td>55410</td>\n",
       "      <td>One Little Indian (1973)</td>\n",
       "      <td>Comedy|Drama|Western</td>\n",
       "      <td>1</td>\n",
       "      <td>0</td>\n",
       "    </tr>\n",
       "    <tr>\n",
       "      <th>1000208</th>\n",
       "      <td>5938</td>\n",
       "      <td>2909</td>\n",
       "      <td>4</td>\n",
       "      <td>957273353</td>\n",
       "      <td>25</td>\n",
       "      <td>1</td>\n",
       "      <td>35401</td>\n",
       "      <td>Five Wives, Three Secretaries and Me (1998)</td>\n",
       "      <td>Documentary</td>\n",
       "      <td>0</td>\n",
       "      <td>1</td>\n",
       "    </tr>\n",
       "  </tbody>\n",
       "</table>\n",
       "<p>1000209 rows × 11 columns</p>\n",
       "</div>"
      ],
      "text/plain": [
       "         UserID  MovieID  Rating  Timestamp  Age  Occupation Zip-code  \\\n",
       "0             1     1193       5  978300760    1          10    48067   \n",
       "1             2     1193       5  978298413   56          16    70072   \n",
       "2            12     1193       4  978220179   25          12    32793   \n",
       "3            15     1193       4  978199279   25           7    22903   \n",
       "4            17     1193       5  978158471   50           1    95350   \n",
       "...         ...      ...     ...        ...  ...         ...      ...   \n",
       "1000204    5949     2198       5  958846401   18          17    47901   \n",
       "1000205    5675     2703       3  976029116   35          14    30030   \n",
       "1000206    5780     2845       1  958153068   18          17    92886   \n",
       "1000207    5851     3607       5  957756608   18          20    55410   \n",
       "1000208    5938     2909       4  957273353   25           1    35401   \n",
       "\n",
       "                                               Title                Genres  \\\n",
       "0             One Flew Over the Cuckoo's Nest (1975)                 Drama   \n",
       "1             One Flew Over the Cuckoo's Nest (1975)                 Drama   \n",
       "2             One Flew Over the Cuckoo's Nest (1975)                 Drama   \n",
       "3             One Flew Over the Cuckoo's Nest (1975)                 Drama   \n",
       "4             One Flew Over the Cuckoo's Nest (1975)                 Drama   \n",
       "...                                              ...                   ...   \n",
       "1000204                           Modulations (1998)           Documentary   \n",
       "1000205                        Broken Vessels (1998)                 Drama   \n",
       "1000206                            White Boys (1999)                 Drama   \n",
       "1000207                     One Little Indian (1973)  Comedy|Drama|Western   \n",
       "1000208  Five Wives, Three Secretaries and Me (1998)           Documentary   \n",
       "\n",
       "         Gender_F  Gender_M  \n",
       "0               1         0  \n",
       "1               0         1  \n",
       "2               0         1  \n",
       "3               0         1  \n",
       "4               0         1  \n",
       "...           ...       ...  \n",
       "1000204         0         1  \n",
       "1000205         0         1  \n",
       "1000206         0         1  \n",
       "1000207         1         0  \n",
       "1000208         0         1  \n",
       "\n",
       "[1000209 rows x 11 columns]"
      ]
     },
     "execution_count": 121,
     "metadata": {},
     "output_type": "execute_result"
    }
   ],
   "source": [
    "merged_df_encoded"
   ]
  },
  {
   "cell_type": "code",
   "execution_count": 122,
   "metadata": {},
   "outputs": [
    {
     "name": "stdout",
     "output_type": "stream",
     "text": [
      "Maximum number of genres in a single row: 6\n"
     ]
    }
   ],
   "source": [
    "# Split genres and count the number of genres for each row\n",
    "merged_df_encoded['Num_Genres'] = merged_df_encoded['Genres'].str.split('|').apply(len)\n",
    "\n",
    "# Find the maximum number of genres across all rows\n",
    "max_num_genres = merged_df_encoded['Num_Genres'].max()\n",
    "\n",
    "print(\"Maximum number of genres in a single row:\", max_num_genres)\n"
   ]
  },
  {
   "cell_type": "code",
   "execution_count": 123,
   "metadata": {},
   "outputs": [
    {
     "name": "stdout",
     "output_type": "stream",
     "text": [
      "Unique Genres:\n",
      "Comedy\n",
      "Musical\n",
      "Drama\n",
      "Children's\n",
      "Sci-Fi\n",
      "Crime\n",
      "Animation\n",
      "Fantasy\n",
      "War\n",
      "Mystery\n",
      "Western\n",
      "Action\n",
      "Horror\n",
      "Romance\n",
      "Film-Noir\n",
      "Documentary\n",
      "Adventure\n",
      "Thriller\n"
     ]
    }
   ],
   "source": [
    "# Split genres and create a list of all genres\n",
    "all_genres = merged_df_encoded['Genres'].str.split('|').tolist()\n",
    "# Flatten the list of lists into a single list\n",
    "all_genres_flat = [genre for sublist in all_genres for genre in sublist]\n",
    "# Get unique genres\n",
    "unique_genres = set(all_genres_flat)\n",
    "# Print unique genres\n",
    "print(\"Unique Genres:\")\n",
    "for genre in unique_genres:\n",
    "    print(genre)\n"
   ]
  },
  {
   "cell_type": "code",
   "execution_count": 124,
   "metadata": {},
   "outputs": [
    {
     "name": "stdout",
     "output_type": "stream",
     "text": [
      "   UserID  MovieID  Rating  Timestamp  Age  Occupation Zip-code  \\\n",
      "0       1     1193       5  978300760    1          10    48067   \n",
      "1       2     1193       5  978298413   56          16    70072   \n",
      "2      12     1193       4  978220179   25          12    32793   \n",
      "3      15     1193       4  978199279   25           7    22903   \n",
      "4      17     1193       5  978158471   50           1    95350   \n",
      "\n",
      "                                    Title  Gender_F  Gender_M  ...  Fantasy  \\\n",
      "0  One Flew Over the Cuckoo's Nest (1975)         1         0  ...        0   \n",
      "1  One Flew Over the Cuckoo's Nest (1975)         0         1  ...        0   \n",
      "2  One Flew Over the Cuckoo's Nest (1975)         0         1  ...        0   \n",
      "3  One Flew Over the Cuckoo's Nest (1975)         0         1  ...        0   \n",
      "4  One Flew Over the Cuckoo's Nest (1975)         0         1  ...        0   \n",
      "\n",
      "   Sci-Fi  War  Thriller  Crime  Mystery  Western  Horror  Film-Noir  \\\n",
      "0       0    0         0      0        0        0       0          0   \n",
      "1       0    0         0      0        0        0       0          0   \n",
      "2       0    0         0      0        0        0       0          0   \n",
      "3       0    0         0      0        0        0       0          0   \n",
      "4       0    0         0      0        0        0       0          0   \n",
      "\n",
      "   Documentary  \n",
      "0            0  \n",
      "1            0  \n",
      "2            0  \n",
      "3            0  \n",
      "4            0  \n",
      "\n",
      "[5 rows x 29 columns]\n"
     ]
    }
   ],
   "source": [
    "# Split genres and find all unique genre names\n",
    "genres_split = merged_df_encoded['Genres'].str.split('|', expand=True)\n",
    "unique_genres = genres_split.stack().unique()\n",
    "\n",
    "# Create new columns for each unique genre\n",
    "for genre in unique_genres:\n",
    "    merged_df_encoded[genre] = genres_split.apply(lambda x: 1 if genre in x.values else 0, axis=1)\n",
    "\n",
    "# Drop the original 'Genres' column\n",
    "merged_df_encoded.drop('Genres', axis=1, inplace=True)\n",
    "\n",
    "# Display the updated dataframe\n",
    "print(merged_df_encoded.head())\n"
   ]
  },
  {
   "cell_type": "code",
   "execution_count": 125,
   "metadata": {},
   "outputs": [
    {
     "data": {
      "text/plain": [
       "Index(['UserID', 'MovieID', 'Rating', 'Timestamp', 'Age', 'Occupation',\n",
       "       'Zip-code', 'Title', 'Gender_F', 'Gender_M', 'Num_Genres', 'Drama',\n",
       "       'Animation', 'Children's', 'Musical', 'Romance', 'Comedy', 'Action',\n",
       "       'Adventure', 'Fantasy', 'Sci-Fi', 'War', 'Thriller', 'Crime', 'Mystery',\n",
       "       'Western', 'Horror', 'Film-Noir', 'Documentary'],\n",
       "      dtype='object')"
      ]
     },
     "execution_count": 125,
     "metadata": {},
     "output_type": "execute_result"
    }
   ],
   "source": [
    "merged_df_encoded.columns"
   ]
  },
  {
   "cell_type": "code",
   "execution_count": 126,
   "metadata": {},
   "outputs": [],
   "source": [
    "# Assuming merged_df_encoded has been loaded and contains genre columns\n",
    "genre_columns = ['Drama', 'Animation', \"Children's\", 'Musical', 'Romance', \n",
    "                 'Comedy', 'Action', 'Adventure', 'Fantasy', 'Sci-Fi', \n",
    "                 'War', 'Thriller', 'Crime', 'Mystery', 'Western', \n",
    "                 'Horror', 'Film-Noir', 'Documentary']\n"
   ]
  },
  {
   "cell_type": "markdown",
   "metadata": {},
   "source": [
    "# Deep Learning: collaborative filtering\n",
    "- Recommendation for a specific user: This model provides personalized recommendations based on the user's past ratings and preferences."
   ]
  },
  {
   "cell_type": "code",
   "execution_count": 128,
   "metadata": {},
   "outputs": [
    {
     "name": "stdout",
     "output_type": "stream",
     "text": [
      "Model: \"model_12\"\n",
      "__________________________________________________________________________________________________\n",
      " Layer (type)                   Output Shape         Param #     Connected to                     \n",
      "==================================================================================================\n",
      " user_input (InputLayer)        [(None, 1)]          0           []                               \n",
      "                                                                                                  \n",
      " movie_input (InputLayer)       [(None, 1)]          0           []                               \n",
      "                                                                                                  \n",
      " user_embedding (Embedding)     (None, 1, 50)        302050      ['user_input[0][0]']             \n",
      "                                                                                                  \n",
      " movie_embedding (Embedding)    (None, 1, 50)        197650      ['movie_input[0][0]']            \n",
      "                                                                                                  \n",
      " flatten_18 (Flatten)           (None, 50)           0           ['user_embedding[0][0]']         \n",
      "                                                                                                  \n",
      " flatten_19 (Flatten)           (None, 50)           0           ['movie_embedding[0][0]']        \n",
      "                                                                                                  \n",
      " genre_input (InputLayer)       [(None, 18)]         0           []                               \n",
      "                                                                                                  \n",
      " concatenate_9 (Concatenate)    (None, 118)          0           ['flatten_18[0][0]',             \n",
      "                                                                  'flatten_19[0][0]',             \n",
      "                                                                  'genre_input[0][0]']            \n",
      "                                                                                                  \n",
      " dense_21 (Dense)               (None, 128)          15232       ['concatenate_9[0][0]']          \n",
      "                                                                                                  \n",
      " dense_22 (Dense)               (None, 64)           8256        ['dense_21[0][0]']               \n",
      "                                                                                                  \n",
      " dense_23 (Dense)               (None, 1)            65          ['dense_22[0][0]']               \n",
      "                                                                                                  \n",
      "==================================================================================================\n",
      "Total params: 523,253\n",
      "Trainable params: 523,253\n",
      "Non-trainable params: 0\n",
      "__________________________________________________________________________________________________\n"
     ]
    }
   ],
   "source": [
    "from keras.layers import Input, Embedding, Flatten, Dense, Concatenate\n",
    "from keras.models import Model\n",
    "from sklearn.model_selection import train_test_split\n",
    "import pandas as pd\n",
    "\n",
    "# Assuming `merged_df_encoded` is already loaded\n",
    "\n",
    "# Define input layers\n",
    "user_input = Input(shape=(1,), name='user_input')\n",
    "movie_input = Input(shape=(1,), name='movie_input')\n",
    "genre_input = Input(shape=(18,), name='genre_input')  # Assuming genre_columns is a list of genre names\n",
    "\n",
    "# Define embedding layers with +1 to accommodate the entire range of indices\n",
    "num_users = merged_df_encoded['UserID'].nunique()\n",
    "num_movies = merged_df_encoded['MovieID'].nunique()\n",
    "max_user_id = merged_df_encoded['UserID'].max()\n",
    "max_movie_id = merged_df_encoded['MovieID'].max()\n",
    "embedding_size = 50  # Define the embedding size\n",
    "\n",
    "user_embedding = Embedding(input_dim=max_user_id + 1, output_dim=embedding_size, name='user_embedding')(user_input)\n",
    "movie_embedding = Embedding(input_dim=max_movie_id + 1, output_dim=embedding_size, name='movie_embedding')(movie_input)\n",
    "\n",
    "# Flatten embedding layers\n",
    "user_flat = Flatten()(user_embedding)\n",
    "movie_flat = Flatten()(movie_embedding)\n",
    "\n",
    "# Concatenate user, movie, and genre embeddings\n",
    "concatenated = Concatenate()([user_flat, movie_flat, genre_input])\n",
    "\n",
    "# Add dense layers for non-linear interactions\n",
    "dense1 = Dense(128, activation='relu')(concatenated)\n",
    "dense2 = Dense(64, activation='relu')(dense1)\n",
    "\n",
    "# Output layer\n",
    "output = Dense(1)(dense2)\n",
    "\n",
    "# Update the model definition to include the genre input layer\n",
    "model = Model(inputs=[user_input, movie_input, genre_input], outputs=output)\n",
    "\n",
    "# Compile model\n",
    "model.compile(optimizer='adam', loss='mean_squared_error')\n",
    "\n",
    "# Print model summary\n",
    "model.summary()\n",
    "\n"
   ]
  },
  {
   "cell_type": "code",
   "execution_count": 129,
   "metadata": {},
   "outputs": [
    {
     "data": {
      "text/plain": [
       "['Drama',\n",
       " 'Animation',\n",
       " \"Children's\",\n",
       " 'Musical',\n",
       " 'Romance',\n",
       " 'Comedy',\n",
       " 'Action',\n",
       " 'Adventure',\n",
       " 'Fantasy',\n",
       " 'Sci-Fi',\n",
       " 'War',\n",
       " 'Thriller',\n",
       " 'Crime',\n",
       " 'Mystery',\n",
       " 'Western',\n",
       " 'Horror',\n",
       " 'Film-Noir',\n",
       " 'Documentary']"
      ]
     },
     "execution_count": 129,
     "metadata": {},
     "output_type": "execute_result"
    }
   ],
   "source": [
    "genre_columns"
   ]
  },
  {
   "cell_type": "code",
   "execution_count": 130,
   "metadata": {},
   "outputs": [
    {
     "name": "stdout",
     "output_type": "stream",
     "text": [
      "Epoch 1/5\n",
      "6252/6252 [==============================] - 34s 5ms/step - loss: 0.8905 - val_loss: 0.8033\n",
      "Epoch 2/5\n",
      "6252/6252 [==============================] - 33s 5ms/step - loss: 0.7583 - val_loss: 0.7642\n",
      "Epoch 3/5\n",
      "6252/6252 [==============================] - 33s 5ms/step - loss: 0.7116 - val_loss: 0.7593\n",
      "Epoch 4/5\n",
      "6252/6252 [==============================] - 36s 6ms/step - loss: 0.6755 - val_loss: 0.7530\n",
      "Epoch 5/5\n",
      "6252/6252 [==============================] - 35s 6ms/step - loss: 0.6426 - val_loss: 0.7543\n",
      "6252/6252 [==============================] - 6s 880us/step - loss: 0.7543\n",
      "Test Loss: 0.7543381452560425\n"
     ]
    }
   ],
   "source": [
    "\n",
    "# Split data into train and test sets\n",
    "train_df, test_df = train_test_split(merged_df_encoded, test_size=0.2, random_state=42)\n",
    "\n",
    "# Train the model\n",
    "history = model.fit([train_df['UserID'], train_df['MovieID'], train_df[genre_columns]], train_df['Rating'], \n",
    "                    epochs=5, batch_size=128, \n",
    "                    validation_data=([test_df['UserID'], test_df['MovieID'], test_df[genre_columns]], test_df['Rating']))\n",
    "\n",
    "# Evaluate the model\n",
    "loss = model.evaluate([test_df['UserID'], test_df['MovieID'], test_df[genre_columns]], test_df['Rating'])\n",
    "print(\"Test Loss:\", loss)"
   ]
  },
  {
   "cell_type": "markdown",
   "metadata": {},
   "source": [
    "# Traditional methods using Average Rating\n",
    "-  Recommendation for a not-logged-in user: This model provides recommendations without relying on a specific user's history, often using general popularity or genre preferences."
   ]
  },
  {
   "cell_type": "code",
   "execution_count": 140,
   "metadata": {},
   "outputs": [],
   "source": [
    "\n",
    "# Overall Popularity-Based Recommendation Model\n",
    "def overall_popularity_recommendation():\n",
    "    # Calculate the average rating for each movie\n",
    "    movie_avg_ratings = merged_df_encoded.groupby('MovieID')['Rating'].mean()\n",
    "\n",
    "    # Merge with movie information to obtain movie names and genres\n",
    "    movie_info = movies_df[['MovieID', 'Title', 'Genres']]\n",
    "    top_movies_overall = movie_avg_ratings.to_frame(name='Average Rating').reset_index()\n",
    "    top_movies_overall = pd.merge(top_movies_overall, movie_info, on='MovieID', how='left')\n",
    "\n",
    "    # Sort movies by average rating in descending order\n",
    "    top_movies_overall = top_movies_overall.sort_values(by='Average Rating', ascending=False).head(10)\n",
    "\n",
    "    return top_movies_overall\n",
    "\n"
   ]
  },
  {
   "cell_type": "markdown",
   "metadata": {},
   "source": [
    "# Traditional methode enhance with zip-code\n",
    "- Recommendation for users in a specific area: This model tailors recommendations based on the location (zip code) of the user, possibly reflecting regional preferences or trends."
   ]
  },
  {
   "cell_type": "code",
   "execution_count": 141,
   "metadata": {},
   "outputs": [],
   "source": [
    "\n",
    "# Location-Based Popularity Recommendation Model\n",
    "def location_based_popularity_recommendation(zip_code):\n",
    "    # Filter ratings by users in the specified zip code\n",
    "    user_ids_in_zip_code = users_df[users_df['Zip-code'] == zip_code]['UserID']\n",
    "    ratings_in_zip_code = merged_df_encoded[merged_df_encoded['UserID'].isin(user_ids_in_zip_code)]\n",
    "\n",
    "    # Calculate the average rating for each movie in the specified zip code\n",
    "    movie_avg_ratings_zip = ratings_in_zip_code.groupby('MovieID')['Rating'].mean()\n",
    "\n",
    "    # Merge with movie information to obtain movie names and genres\n",
    "    movie_info = movies_df[['MovieID', 'Title', 'Genres']]\n",
    "    top_movies_zip = movie_avg_ratings_zip.to_frame(name='Average Rating').reset_index()\n",
    "    top_movies_zip = pd.merge(top_movies_zip, movie_info, on='MovieID', how='left')\n",
    "\n",
    "    # Sort movies by average rating in descending order\n",
    "    top_movies_zip = top_movies_zip.sort_values(by='Average Rating', ascending=False).head(10)\n",
    "\n",
    "    return top_movies_zip\n",
    "\n",
    "# # Example: Location-Based Popularity Recommendations for a specific zip code\n",
    "# zip_code = '12345'  # Example zip code\n",
    "# print(\"\\nTop 10 popular movies for users in zip code\", zip_code)\n",
    "# print(location_based_popularity_recommendation(zip_code))\n"
   ]
  },
  {
   "cell_type": "markdown",
   "metadata": {},
   "source": [
    "# How to use the model"
   ]
  },
  {
   "cell_type": "markdown",
   "metadata": {},
   "source": [
    "### Deep Learning"
   ]
  },
  {
   "cell_type": "code",
   "execution_count": 142,
   "metadata": {},
   "outputs": [
    {
     "name": "stdout",
     "output_type": "stream",
     "text": [
      "115/115 [==============================] - 0s 1ms/step\n",
      "Top 10 recommended movies for User 8\n",
      "                          Title                Genres  Recommendation Score\n",
      "0     This Is Spinal Tap (1984)  Comedy|Drama|Musical              4.706374\n",
      "1  Palm Beach Story, The (1942)                Comedy              4.700954\n",
      "2           General, The (1927)                Comedy              4.690494\n",
      "3     Young Frankenstein (1974)         Comedy|Horror              4.662841\n",
      "4    Usual Suspects, The (1995)        Crime|Thriller              4.646956\n",
      "5           Ghostbusters (1984)         Comedy|Horror              4.646878\n",
      "6         Ed's Next Move (1996)                Comedy              4.607678\n",
      "7                   Jaws (1975)         Action|Horror              4.592065\n",
      "8         Quiet Man, The (1952)        Comedy|Romance              4.583557\n",
      "9  It Happened One Night (1934)                Comedy              4.571684\n"
     ]
    }
   ],
   "source": [
    "import numpy as np\n",
    "#assume input user id are\n",
    "user_id=8\n",
    "\n",
    "user_movies = merged_df_encoded[merged_df_encoded['UserID'] == user_id]['MovieID'].unique()\n",
    "user_unrated_movies = merged_df_encoded[~merged_df_encoded['MovieID'].isin(user_movies)]['MovieID'].unique()\n",
    "# Repeat the user ID for all unrated movies\n",
    "user_ids = np.array([user_id] * len(user_unrated_movies))\n",
    "\n",
    "# Ensure the genre input has the same number of rows as the other inputs\n",
    "genre_input_data = np.zeros((len(user_unrated_movies), len(genre_columns)))\n",
    "\n",
    "# Predict ratings for unrated movies\n",
    "user_recommendations = model.predict([user_ids.reshape(-1, 1), user_unrated_movies.reshape(-1, 1), genre_input_data])\n",
    "\n",
    "# Create a DataFrame with movie IDs and recommendation scores\n",
    "user_recommendations_df = pd.DataFrame({'MovieID': user_unrated_movies, 'Recommendation Score': user_recommendations.flatten()})\n",
    "\n",
    "# Sort recommendations by score in descending order\n",
    "user_recommendations_df = user_recommendations_df.sort_values(by='Recommendation Score', ascending=False)\n",
    "# Merge recommendations DataFrame with movies DataFrame\n",
    "recommended_movies_df = pd.merge(user_recommendations_df, movies_df, on='MovieID', how='left')\n",
    "\n",
    "# Print top recommended movies with their names and genres\n",
    "print(\"Top 10 recommended movies for User\", user_id)\n",
    "print(recommended_movies_df[['Title', 'Genres', 'Recommendation Score']].head(10))\n",
    "\n"
   ]
  },
  {
   "cell_type": "markdown",
   "metadata": {},
   "source": [
    "### Recommendation for a not-logged-in user"
   ]
  },
  {
   "cell_type": "code",
   "execution_count": 146,
   "metadata": {},
   "outputs": [
    {
     "name": "stdout",
     "output_type": "stream",
     "text": [
      "Top 10 overall popular movies:\n",
      "      MovieID  Average Rating                                      Title  \\\n",
      "926       989             5.0  Schlafes Bruder (Brother of Sleep) (1995)   \n",
      "3635     3881             5.0                   Bittersweet Motel (2000)   \n",
      "1652     1830             5.0                    Follow the Bitch (1998)   \n",
      "3152     3382             5.0                     Song of Freedom (1936)   \n",
      "744       787             5.0         Gate of Heavenly Peace, The (1995)   \n",
      "3054     3280             5.0                           Baby, The (1973)   \n",
      "3367     3607             5.0                   One Little Indian (1973)   \n",
      "3010     3233             5.0                       Smashing Time (1967)   \n",
      "2955     3172             5.0                    Ulysses (Ulisse) (1954)   \n",
      "3414     3656             5.0                               Lured (1947)   \n",
      "\n",
      "                    Genres  \n",
      "926                  Drama  \n",
      "3635           Documentary  \n",
      "1652                Comedy  \n",
      "3152                 Drama  \n",
      "744            Documentary  \n",
      "3054                Horror  \n",
      "3367  Comedy|Drama|Western  \n",
      "3010                Comedy  \n",
      "2955             Adventure  \n",
      "3414                 Crime  \n"
     ]
    }
   ],
   "source": [
    "\n",
    "# Example: Overall Popularity-Based Recommendations\n",
    "# this will work as dataset file mean\n",
    "print(\"Top 10 overall popular movies:\")\n",
    "print(overall_popularity_recommendation())"
   ]
  },
  {
   "cell_type": "markdown",
   "metadata": {},
   "source": [
    "### Recommendation for users in a specific area"
   ]
  },
  {
   "cell_type": "code",
   "execution_count": 147,
   "metadata": {},
   "outputs": [
    {
     "data": {
      "text/plain": [
       "array(['48067', '70072', '32793', ..., '74403', '79401', '77662'],\n",
       "      dtype=object)"
      ]
     },
     "execution_count": 147,
     "metadata": {},
     "output_type": "execute_result"
    }
   ],
   "source": [
    "# the zip code must be contain in dataset\n",
    "merged_df_encoded['Zip-code'].unique()"
   ]
  },
  {
   "cell_type": "code",
   "execution_count": 148,
   "metadata": {},
   "outputs": [
    {
     "name": "stdout",
     "output_type": "stream",
     "text": [
      "\n",
      "Top 10 popular movies for users in zip code 74403\n",
      "    MovieID  Average Rating                                      Title  \\\n",
      "20     3917             5.0                          Hellraiser (1987)   \n",
      "1       366             5.0          Wes Craven's New Nightmare (1994)   \n",
      "15     2710             5.0            Blair Witch Project, The (1999)   \n",
      "3      1219             5.0                              Psycho (1960)   \n",
      "5      1261             5.0         Evil Dead II (Dead By Dawn) (1987)   \n",
      "6      1321             5.0     American Werewolf in London, An (1981)   \n",
      "13     1994             5.0                         Poltergeist (1982)   \n",
      "8      1347             5.0          Nightmare on Elm Street, A (1984)   \n",
      "12     1973             5.0  Freddy's Dead: The Final Nightmare (1991)   \n",
      "14     2455             4.0                            Fly, The (1986)   \n",
      "\n",
      "                            Genres  \n",
      "20                          Horror  \n",
      "1                           Horror  \n",
      "15                          Horror  \n",
      "3                  Horror|Thriller  \n",
      "5   Action|Adventure|Comedy|Horror  \n",
      "6                           Horror  \n",
      "13                 Horror|Thriller  \n",
      "8                           Horror  \n",
      "12                          Horror  \n",
      "14                   Horror|Sci-Fi  \n"
     ]
    }
   ],
   "source": [
    "# Example: Location-Based Popularity Recommendations for a specific zip code\n",
    "zip_code = '74403'  # Example zip code\n",
    "print(\"\\nTop 10 popular movies for users in zip code\", zip_code)\n",
    "print(location_based_popularity_recommendation(zip_code))"
   ]
  },
  {
   "cell_type": "markdown",
   "metadata": {},
   "source": [
    "### Prepare for local deployment"
   ]
  },
  {
   "cell_type": "code",
   "execution_count": 152,
   "metadata": {},
   "outputs": [
    {
     "name": "stdout",
     "output_type": "stream",
     "text": [
      "Collecting flask\n",
      "  Downloading flask-3.0.2-py3-none-any.whl (101 kB)\n",
      "     ------------------------------------ 101.3/101.3 kB 364.2 kB/s eta 0:00:00\n",
      "Collecting Werkzeug>=3.0.0\n",
      "  Downloading werkzeug-3.0.1-py3-none-any.whl (226 kB)\n",
      "     ------------------------------------ 226.7/226.7 kB 865.7 kB/s eta 0:00:00\n",
      "Collecting blinker>=1.6.2\n",
      "  Downloading blinker-1.7.0-py3-none-any.whl (13 kB)\n",
      "Requirement already satisfied: click>=8.1.3 in c:\\users\\gda-user\\appdata\\local\\programs\\python\\python310\\lib\\site-packages (from flask) (8.1.7)\n",
      "Requirement already satisfied: Jinja2>=3.1.2 in c:\\users\\gda-user\\appdata\\local\\programs\\python\\python310\\lib\\site-packages (from flask) (3.1.2)\n",
      "Collecting itsdangerous>=2.1.2\n",
      "  Downloading itsdangerous-2.1.2-py3-none-any.whl (15 kB)\n",
      "Requirement already satisfied: colorama in c:\\users\\gda-user\\appdata\\local\\programs\\python\\python310\\lib\\site-packages (from click>=8.1.3->flask) (0.4.6)\n",
      "Requirement already satisfied: MarkupSafe>=2.0 in c:\\users\\gda-user\\appdata\\local\\programs\\python\\python310\\lib\\site-packages (from Jinja2>=3.1.2->flask) (2.1.2)\n",
      "Installing collected packages: Werkzeug, itsdangerous, blinker, flask\n",
      "  Attempting uninstall: Werkzeug\n",
      "    Found existing installation: Werkzeug 2.3.4\n",
      "    Uninstalling Werkzeug-2.3.4:\n",
      "      Successfully uninstalled Werkzeug-2.3.4\n",
      "Successfully installed Werkzeug-3.0.1 blinker-1.7.0 flask-3.0.2 itsdangerous-2.1.2\n",
      "Note: you may need to restart the kernel to use updated packages.\n"
     ]
    },
    {
     "name": "stderr",
     "output_type": "stream",
     "text": [
      "\n",
      "[notice] A new release of pip available: 22.2.2 -> 24.0\n",
      "[notice] To update, run: python.exe -m pip install --upgrade pip\n"
     ]
    }
   ],
   "source": [
    "# pip install flask"
   ]
  },
  {
   "cell_type": "markdown",
   "metadata": {},
   "source": [
    "### Extract model 1"
   ]
  },
  {
   "cell_type": "code",
   "execution_count": 149,
   "metadata": {},
   "outputs": [
    {
     "name": "stderr",
     "output_type": "stream",
     "text": [
      "WARNING:absl:Found untraced functions such as _update_step_xla while saving (showing 1 of 1). These functions will not be directly callable after loading.\n"
     ]
    },
    {
     "name": "stdout",
     "output_type": "stream",
     "text": [
      "INFO:tensorflow:Assets written to: path_to_save_model\\assets\n"
     ]
    },
    {
     "name": "stderr",
     "output_type": "stream",
     "text": [
      "INFO:tensorflow:Assets written to: path_to_save_model\\assets\n"
     ]
    }
   ],
   "source": [
    "# Assuming `model` is your trained Keras model\n",
    "model.save('model_dl')\n"
   ]
  },
  {
   "cell_type": "markdown",
   "metadata": {},
   "source": [
    "### export df to use"
   ]
  },
  {
   "cell_type": "code",
   "execution_count": 150,
   "metadata": {},
   "outputs": [
    {
     "name": "stdout",
     "output_type": "stream",
     "text": [
      "Dataframes exported successfully.\n"
     ]
    }
   ],
   "source": [
    "#export df to use\n",
    "# Export merged_df_encoded to CSV\n",
    "merged_df_encoded.to_csv('merged_df_encoded.csv', index=False)\n",
    "\n",
    "# Export movies_df to CSV\n",
    "movies_df.to_csv('movies_df.csv', index=False)\n",
    "\n",
    "# Export users_df to CSV\n",
    "users_df.to_csv('users_df.csv', index=False)\n",
    "\n",
    "# Print a message indicating successful export\n",
    "print(\"Dataframes exported successfully.\")"
   ]
  },
  {
   "cell_type": "markdown",
   "metadata": {},
   "source": [
    "# Summary\n",
    "1. Recommendation for a specific user: This model provides personalized recommendations based on the user's past ratings and preferences.\n",
    "    - **Tailored Models**: Each recommendation model is tailored to meet specific objectives and user preferences, aligning with our overarching goal of enhancing user experience and satisfaction.\n",
    "\n",
    "\n",
    "2. Recommendation for a not-logged-in user: This model provides recommendations without relying on a specific user's history, often using general popularity or genre preferences.\n",
    "    - **Personalized Recommendations**: Our models provide personalized and relevant recommendations, leveraging users' historical interactions and preferences to deliver a highly curated and engaging movie-watching experience.\n",
    "\n",
    "3. Recommendation for users in a specific area: This model tailors recommendations based on the location (zip code) of the user, possibly reflecting regional preferences or trends.\n",
    "    - **Optimized User Satisfaction**: Adopting this strategy enables us to optimize user satisfaction and retention, ultimately driving the success and growth of our recommendation system.\n",
    "\n",
    "  \n",
    "\n",
    "  \n"
   ]
  }
 ],
 "metadata": {
  "kernelspec": {
   "display_name": "Python 3",
   "language": "python",
   "name": "python3"
  },
  "language_info": {
   "codemirror_mode": {
    "name": "ipython",
    "version": 3
   },
   "file_extension": ".py",
   "mimetype": "text/x-python",
   "name": "python",
   "nbconvert_exporter": "python",
   "pygments_lexer": "ipython3",
   "version": "3.10.7"
  }
 },
 "nbformat": 4,
 "nbformat_minor": 2
}
